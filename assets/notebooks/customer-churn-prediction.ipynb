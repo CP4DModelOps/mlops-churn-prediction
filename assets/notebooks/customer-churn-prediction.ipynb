{
 "cells": [
  {
   "cell_type": "markdown",
   "metadata": {
    "id": "6fea454a55f84fb884c593b89cd9b814"
   },
   "source": [
    "# Introduction - Customer Churn Prediction notebook\n",
    "In this notebook, we illustrate how you can train a model for Churn Prediction using scikit learn. After training the model, you step through the instructions to deploy the model using Watson Machine Learning.\n",
    "\n",
    "This notebook is a variation of the original notebook reference in this github repo: https://github.com/elenalowery/cpd4_demo/blob/master/assets/jupyterlab/Predict_Customer_Churn_CPD4.ipynb\n"
   ]
  },
  {
   "cell_type": "code",
   "execution_count": 1,
   "metadata": {
    "id": "89d4ad1d242e4526803c8ad7379fbff6",
    "tags": []
   },
   "outputs": [],
   "source": [
    "# Install required Python modules\n",
    "!pip install sklearn-pandas > /dev/null\n"
   ]
  },
  {
   "cell_type": "markdown",
   "metadata": {
    "id": "15e468f773c241afa16cf7bc12fb4e85"
   },
   "source": [
    "## Step 1: Review Use Case\n",
    "The analytics use case implemented in this notebook is telco churn prediction. It is a simple use case which illustrates typical process for model development and deployment using Cloud Pak for Data."
   ]
  },
  {
   "cell_type": "code",
   "execution_count": 2,
   "metadata": {
    "id": "4464d4d7-a3c5-4b52-96c6-57b2d3f853d2",
    "tags": []
   },
   "outputs": [
    {
     "name": "stdout",
     "output_type": "stream",
     "text": [
      "Current branch     : optimize-churn-model\n",
      "Current environment: dev\n"
     ]
    }
   ],
   "source": [
    "import subprocess\n",
    "CURRENT_BRANCH = subprocess.run(['git', 'rev-parse', '--abbrev-ref', 'HEAD'], stdout=subprocess.PIPE)\\\n",
    "    .stdout.strip().decode(\"utf-8\")\n",
    "\n",
    "if CURRENT_BRANCH in ['prd','uat']:\n",
    "    CURRENT_ENV=CURRENT_BRANCH\n",
    "else:\n",
    "    CURRENT_ENV='dev'\n",
    "    \n",
    "print('Current branch     : {}'.format(CURRENT_BRANCH))\n",
    "print('Current environment: {}'.format(CURRENT_ENV))"
   ]
  },
  {
   "cell_type": "code",
   "execution_count": 3,
   "metadata": {
    "id": "8eed8bc2-f317-4b21-addc-769c43651aa1",
    "tags": []
   },
   "outputs": [
    {
     "data": {
      "text/html": [
       "<div>\n",
       "<style scoped>\n",
       "    .dataframe tbody tr th:only-of-type {\n",
       "        vertical-align: middle;\n",
       "    }\n",
       "\n",
       "    .dataframe tbody tr th {\n",
       "        vertical-align: top;\n",
       "    }\n",
       "\n",
       "    .dataframe thead th {\n",
       "        text-align: right;\n",
       "    }\n",
       "</style>\n",
       "<table border=\"1\" class=\"dataframe\">\n",
       "  <thead>\n",
       "    <tr style=\"text-align: right;\">\n",
       "      <th></th>\n",
       "      <th>ID</th>\n",
       "      <th>LONGDISTANCE</th>\n",
       "      <th>INTERNATIONAL</th>\n",
       "      <th>LOCAL</th>\n",
       "      <th>DROPPED</th>\n",
       "      <th>PAYMETHOD</th>\n",
       "      <th>LOCALBILLTYPE</th>\n",
       "      <th>LONGDISTANCEBILLTYPE</th>\n",
       "      <th>USAGE</th>\n",
       "      <th>RATEPLAN</th>\n",
       "      <th>...</th>\n",
       "      <th>CREDITCARD</th>\n",
       "      <th>DOB</th>\n",
       "      <th>ADDRESS_1</th>\n",
       "      <th>CITY</th>\n",
       "      <th>STATE</th>\n",
       "      <th>ZIP</th>\n",
       "      <th>ZIP4</th>\n",
       "      <th>LONGITUDE</th>\n",
       "      <th>LATITUDE</th>\n",
       "      <th>CHURN</th>\n",
       "    </tr>\n",
       "  </thead>\n",
       "  <tbody>\n",
       "    <tr>\n",
       "      <th>0</th>\n",
       "      <td>1</td>\n",
       "      <td>23</td>\n",
       "      <td>0</td>\n",
       "      <td>206</td>\n",
       "      <td>0</td>\n",
       "      <td>CC</td>\n",
       "      <td>Budget</td>\n",
       "      <td>Intnl_discount</td>\n",
       "      <td>229</td>\n",
       "      <td>3</td>\n",
       "      <td>...</td>\n",
       "      <td>1.814139e+15</td>\n",
       "      <td>32dad3590f2243b8709201348e1ae897</td>\n",
       "      <td>159 HUTTON ST BSMT A</td>\n",
       "      <td>ABSECON</td>\n",
       "      <td>NJ</td>\n",
       "      <td>8201</td>\n",
       "      <td>0</td>\n",
       "      <td>NaN</td>\n",
       "      <td>NaN</td>\n",
       "      <td>T</td>\n",
       "    </tr>\n",
       "    <tr>\n",
       "      <th>1</th>\n",
       "      <td>1004</td>\n",
       "      <td>28</td>\n",
       "      <td>0</td>\n",
       "      <td>60</td>\n",
       "      <td>0</td>\n",
       "      <td>Auto</td>\n",
       "      <td>FreeLocal</td>\n",
       "      <td>Standard</td>\n",
       "      <td>89</td>\n",
       "      <td>4</td>\n",
       "      <td>...</td>\n",
       "      <td>6.494422e+15</td>\n",
       "      <td>c643e317495168f62085716c81ec164d</td>\n",
       "      <td>1724 WHITEHAVEN</td>\n",
       "      <td>GLYNDON</td>\n",
       "      <td>MN</td>\n",
       "      <td>56547</td>\n",
       "      <td>0</td>\n",
       "      <td>NaN</td>\n",
       "      <td>NaN</td>\n",
       "      <td>F</td>\n",
       "    </tr>\n",
       "    <tr>\n",
       "      <th>2</th>\n",
       "      <td>1005</td>\n",
       "      <td>24</td>\n",
       "      <td>0</td>\n",
       "      <td>5</td>\n",
       "      <td>0</td>\n",
       "      <td>CH</td>\n",
       "      <td>Budget</td>\n",
       "      <td>Standard</td>\n",
       "      <td>29</td>\n",
       "      <td>4</td>\n",
       "      <td>...</td>\n",
       "      <td>3.218720e+15</td>\n",
       "      <td>80c40ce517ca57e0919e238e0e29e75c</td>\n",
       "      <td>95 W 25TH ST APT 1</td>\n",
       "      <td>WAPPINGERS FALLS</td>\n",
       "      <td>NY</td>\n",
       "      <td>12590</td>\n",
       "      <td>1723</td>\n",
       "      <td>NaN</td>\n",
       "      <td>NaN</td>\n",
       "      <td>F</td>\n",
       "    </tr>\n",
       "    <tr>\n",
       "      <th>3</th>\n",
       "      <td>1006</td>\n",
       "      <td>28</td>\n",
       "      <td>0</td>\n",
       "      <td>97</td>\n",
       "      <td>0</td>\n",
       "      <td>CC</td>\n",
       "      <td>FreeLocal</td>\n",
       "      <td>Standard</td>\n",
       "      <td>125</td>\n",
       "      <td>1</td>\n",
       "      <td>...</td>\n",
       "      <td>3.016220e+15</td>\n",
       "      <td>df7b078f544b61f867ad0dc1fa51c046</td>\n",
       "      <td>66 KULLA DR</td>\n",
       "      <td>RICHLAND</td>\n",
       "      <td>NE</td>\n",
       "      <td>68601</td>\n",
       "      <td>0</td>\n",
       "      <td>-97.377539</td>\n",
       "      <td>41.441233</td>\n",
       "      <td>T</td>\n",
       "    </tr>\n",
       "    <tr>\n",
       "      <th>4</th>\n",
       "      <td>1008</td>\n",
       "      <td>0</td>\n",
       "      <td>0</td>\n",
       "      <td>4</td>\n",
       "      <td>2</td>\n",
       "      <td>CC</td>\n",
       "      <td>Budget</td>\n",
       "      <td>Standard</td>\n",
       "      <td>4</td>\n",
       "      <td>2</td>\n",
       "      <td>...</td>\n",
       "      <td>7.070216e+15</td>\n",
       "      <td>273a525adc7bb0bd49252e47dab190e9</td>\n",
       "      <td>5621 MCCARTY RD</td>\n",
       "      <td>EVERETT</td>\n",
       "      <td>WA</td>\n",
       "      <td>98205</td>\n",
       "      <td>0</td>\n",
       "      <td>NaN</td>\n",
       "      <td>NaN</td>\n",
       "      <td>F</td>\n",
       "    </tr>\n",
       "    <tr>\n",
       "      <th>5</th>\n",
       "      <td>1009</td>\n",
       "      <td>29</td>\n",
       "      <td>0</td>\n",
       "      <td>9</td>\n",
       "      <td>0</td>\n",
       "      <td>CC</td>\n",
       "      <td>Budget</td>\n",
       "      <td>Intnl_discount</td>\n",
       "      <td>38</td>\n",
       "      <td>2</td>\n",
       "      <td>...</td>\n",
       "      <td>4.919386e+15</td>\n",
       "      <td>efb18ce1ef44f169687df57e9b9fdf53</td>\n",
       "      <td>2000 CALLE 4</td>\n",
       "      <td>CAROLINA</td>\n",
       "      <td>PR</td>\n",
       "      <td>979</td>\n",
       "      <td>0</td>\n",
       "      <td>NaN</td>\n",
       "      <td>NaN</td>\n",
       "      <td>F</td>\n",
       "    </tr>\n",
       "    <tr>\n",
       "      <th>6</th>\n",
       "      <td>1010</td>\n",
       "      <td>13</td>\n",
       "      <td>0</td>\n",
       "      <td>40</td>\n",
       "      <td>0</td>\n",
       "      <td>CC</td>\n",
       "      <td>Budget</td>\n",
       "      <td>Standard</td>\n",
       "      <td>53</td>\n",
       "      <td>4</td>\n",
       "      <td>...</td>\n",
       "      <td>9.402648e+15</td>\n",
       "      <td>227f74a0e2d7b254a9c73ec61528ee94</td>\n",
       "      <td>3801 YOSEMITE BLVD STE F</td>\n",
       "      <td>HOUSTON</td>\n",
       "      <td>TX</td>\n",
       "      <td>77024</td>\n",
       "      <td>7776</td>\n",
       "      <td>NaN</td>\n",
       "      <td>NaN</td>\n",
       "      <td>F</td>\n",
       "    </tr>\n",
       "    <tr>\n",
       "      <th>7</th>\n",
       "      <td>1016</td>\n",
       "      <td>16</td>\n",
       "      <td>0</td>\n",
       "      <td>114</td>\n",
       "      <td>0</td>\n",
       "      <td>CH</td>\n",
       "      <td>Budget</td>\n",
       "      <td>Standard</td>\n",
       "      <td>130</td>\n",
       "      <td>1</td>\n",
       "      <td>...</td>\n",
       "      <td>8.522563e+15</td>\n",
       "      <td>92e4302092a290acd3bc1fb75ada5267</td>\n",
       "      <td>843 EUCLID ST APT 101S</td>\n",
       "      <td>KIRKLAND</td>\n",
       "      <td>WA</td>\n",
       "      <td>98034</td>\n",
       "      <td>0</td>\n",
       "      <td>-122.209175</td>\n",
       "      <td>47.709619</td>\n",
       "      <td>T</td>\n",
       "    </tr>\n",
       "    <tr>\n",
       "      <th>8</th>\n",
       "      <td>1017</td>\n",
       "      <td>7</td>\n",
       "      <td>0</td>\n",
       "      <td>6</td>\n",
       "      <td>0</td>\n",
       "      <td>CC</td>\n",
       "      <td>Budget</td>\n",
       "      <td>Standard</td>\n",
       "      <td>13</td>\n",
       "      <td>3</td>\n",
       "      <td>...</td>\n",
       "      <td>2.981966e+15</td>\n",
       "      <td>32bd821d9a01040a89f9a7d3766017ce</td>\n",
       "      <td>3801 MAC CV</td>\n",
       "      <td>NEW YORK</td>\n",
       "      <td>NY</td>\n",
       "      <td>10019</td>\n",
       "      <td>0</td>\n",
       "      <td>-73.990852</td>\n",
       "      <td>40.768196</td>\n",
       "      <td>F</td>\n",
       "    </tr>\n",
       "    <tr>\n",
       "      <th>9</th>\n",
       "      <td>1018</td>\n",
       "      <td>21</td>\n",
       "      <td>0</td>\n",
       "      <td>87</td>\n",
       "      <td>0</td>\n",
       "      <td>CC</td>\n",
       "      <td>Budget</td>\n",
       "      <td>Standard</td>\n",
       "      <td>108</td>\n",
       "      <td>1</td>\n",
       "      <td>...</td>\n",
       "      <td>3.074091e+15</td>\n",
       "      <td>e78d37c276f03bdfa0eef28dc18f9c3a</td>\n",
       "      <td>390 W BROADWAY ST</td>\n",
       "      <td>BUTLER</td>\n",
       "      <td>NJ</td>\n",
       "      <td>7405</td>\n",
       "      <td>0</td>\n",
       "      <td>NaN</td>\n",
       "      <td>NaN</td>\n",
       "      <td>F</td>\n",
       "    </tr>\n",
       "  </tbody>\n",
       "</table>\n",
       "<p>10 rows × 26 columns</p>\n",
       "</div>"
      ],
      "text/plain": [
       "     ID  LONGDISTANCE  INTERNATIONAL  LOCAL  DROPPED PAYMETHOD LOCALBILLTYPE  \\\n",
       "0     1            23              0    206        0        CC        Budget   \n",
       "1  1004            28              0     60        0      Auto     FreeLocal   \n",
       "2  1005            24              0      5        0        CH        Budget   \n",
       "3  1006            28              0     97        0        CC     FreeLocal   \n",
       "4  1008             0              0      4        2        CC        Budget   \n",
       "5  1009            29              0      9        0        CC        Budget   \n",
       "6  1010            13              0     40        0        CC        Budget   \n",
       "7  1016            16              0    114        0        CH        Budget   \n",
       "8  1017             7              0      6        0        CC        Budget   \n",
       "9  1018            21              0     87        0        CC        Budget   \n",
       "\n",
       "  LONGDISTANCEBILLTYPE  USAGE  RATEPLAN  ...    CREDITCARD  \\\n",
       "0       Intnl_discount    229         3  ...  1.814139e+15   \n",
       "1             Standard     89         4  ...  6.494422e+15   \n",
       "2             Standard     29         4  ...  3.218720e+15   \n",
       "3             Standard    125         1  ...  3.016220e+15   \n",
       "4             Standard      4         2  ...  7.070216e+15   \n",
       "5       Intnl_discount     38         2  ...  4.919386e+15   \n",
       "6             Standard     53         4  ...  9.402648e+15   \n",
       "7             Standard    130         1  ...  8.522563e+15   \n",
       "8             Standard     13         3  ...  2.981966e+15   \n",
       "9             Standard    108         1  ...  3.074091e+15   \n",
       "\n",
       "                                DOB                 ADDRESS_1  \\\n",
       "0  32dad3590f2243b8709201348e1ae897      159 HUTTON ST BSMT A   \n",
       "1  c643e317495168f62085716c81ec164d           1724 WHITEHAVEN   \n",
       "2  80c40ce517ca57e0919e238e0e29e75c        95 W 25TH ST APT 1   \n",
       "3  df7b078f544b61f867ad0dc1fa51c046               66 KULLA DR   \n",
       "4  273a525adc7bb0bd49252e47dab190e9           5621 MCCARTY RD   \n",
       "5  efb18ce1ef44f169687df57e9b9fdf53              2000 CALLE 4   \n",
       "6  227f74a0e2d7b254a9c73ec61528ee94  3801 YOSEMITE BLVD STE F   \n",
       "7  92e4302092a290acd3bc1fb75ada5267    843 EUCLID ST APT 101S   \n",
       "8  32bd821d9a01040a89f9a7d3766017ce               3801 MAC CV   \n",
       "9  e78d37c276f03bdfa0eef28dc18f9c3a         390 W BROADWAY ST   \n",
       "\n",
       "               CITY STATE    ZIP  ZIP4   LONGITUDE   LATITUDE CHURN  \n",
       "0           ABSECON    NJ   8201     0         NaN        NaN     T  \n",
       "1           GLYNDON    MN  56547     0         NaN        NaN     F  \n",
       "2  WAPPINGERS FALLS    NY  12590  1723         NaN        NaN     F  \n",
       "3          RICHLAND    NE  68601     0  -97.377539  41.441233     T  \n",
       "4           EVERETT    WA  98205     0         NaN        NaN     F  \n",
       "5          CAROLINA    PR    979     0         NaN        NaN     F  \n",
       "6           HOUSTON    TX  77024  7776         NaN        NaN     F  \n",
       "7          KIRKLAND    WA  98034     0 -122.209175  47.709619     T  \n",
       "8          NEW YORK    NY  10019     0  -73.990852  40.768196     F  \n",
       "9            BUTLER    NJ   7405     0         NaN        NaN     F  \n",
       "\n",
       "[10 rows x 26 columns]"
      ]
     },
     "execution_count": 3,
     "metadata": {},
     "output_type": "execute_result"
    }
   ],
   "source": [
    "import pandas as pd\n",
    "customer_data_df=pd.read_csv('/userfs/assets/data_asset/CUSTOMER_DATA_ready-'+CURRENT_ENV+'.csv')\n",
    "customer_data_df.head(10)"
   ]
  },
  {
   "cell_type": "code",
   "execution_count": 4,
   "metadata": {
    "id": "6838eb7d1a0543e698a069648b8296c4",
    "tags": []
   },
   "outputs": [],
   "source": [
    "# COPY the dataFrame into a new dataFrame called *data*\n",
    "data=customer_data_df.copy()"
   ]
  },
  {
   "cell_type": "code",
   "execution_count": 5,
   "metadata": {
    "id": "082f5174c293460f8db2ccfe222fc384",
    "tags": []
   },
   "outputs": [
    {
     "name": "stdout",
     "output_type": "stream",
     "text": [
      "Index(['ID', 'LONGDISTANCE', 'INTERNATIONAL', 'LOCAL', 'DROPPED', 'PAYMETHOD',\n",
      "       'LOCALBILLTYPE', 'LONGDISTANCEBILLTYPE', 'USAGE', 'RATEPLAN', 'GENDER',\n",
      "       'STATUS', 'CHILDREN', 'ESTINCOME', 'CAROWNER', 'AGE', 'CREDITCARD',\n",
      "       'DOB', 'ADDRESS_1', 'CITY', 'STATE', 'ZIP', 'ZIP4', 'LONGITUDE',\n",
      "       'LATITUDE', 'CHURN'],\n",
      "      dtype='object')\n"
     ]
    }
   ],
   "source": [
    "# List all the columns\n",
    "print(data.columns)"
   ]
  },
  {
   "cell_type": "code",
   "execution_count": 6,
   "metadata": {
    "id": "c872708dd0234402b620729acf287fc6",
    "tags": []
   },
   "outputs": [
    {
     "data": {
      "text/html": [
       "<div>\n",
       "<style scoped>\n",
       "    .dataframe tbody tr th:only-of-type {\n",
       "        vertical-align: middle;\n",
       "    }\n",
       "\n",
       "    .dataframe tbody tr th {\n",
       "        vertical-align: top;\n",
       "    }\n",
       "\n",
       "    .dataframe thead th {\n",
       "        text-align: right;\n",
       "    }\n",
       "</style>\n",
       "<table border=\"1\" class=\"dataframe\">\n",
       "  <thead>\n",
       "    <tr style=\"text-align: right;\">\n",
       "      <th></th>\n",
       "      <th>LONGDISTANCE</th>\n",
       "      <th>INTERNATIONAL</th>\n",
       "      <th>LOCAL</th>\n",
       "      <th>DROPPED</th>\n",
       "      <th>PAYMETHOD</th>\n",
       "      <th>LOCALBILLTYPE</th>\n",
       "      <th>LONGDISTANCEBILLTYPE</th>\n",
       "      <th>USAGE</th>\n",
       "      <th>RATEPLAN</th>\n",
       "      <th>GENDER</th>\n",
       "      <th>STATUS</th>\n",
       "      <th>CHILDREN</th>\n",
       "      <th>ESTINCOME</th>\n",
       "      <th>CAROWNER</th>\n",
       "      <th>AGE</th>\n",
       "      <th>CHURN</th>\n",
       "    </tr>\n",
       "  </thead>\n",
       "  <tbody>\n",
       "    <tr>\n",
       "      <th>0</th>\n",
       "      <td>23</td>\n",
       "      <td>0</td>\n",
       "      <td>206</td>\n",
       "      <td>0</td>\n",
       "      <td>CC</td>\n",
       "      <td>Budget</td>\n",
       "      <td>Intnl_discount</td>\n",
       "      <td>229</td>\n",
       "      <td>3</td>\n",
       "      <td>F</td>\n",
       "      <td>S</td>\n",
       "      <td>1</td>\n",
       "      <td>38000.00</td>\n",
       "      <td>N</td>\n",
       "      <td>24.393333</td>\n",
       "      <td>T</td>\n",
       "    </tr>\n",
       "    <tr>\n",
       "      <th>1</th>\n",
       "      <td>28</td>\n",
       "      <td>0</td>\n",
       "      <td>60</td>\n",
       "      <td>0</td>\n",
       "      <td>Auto</td>\n",
       "      <td>FreeLocal</td>\n",
       "      <td>Standard</td>\n",
       "      <td>89</td>\n",
       "      <td>4</td>\n",
       "      <td>F</td>\n",
       "      <td>M</td>\n",
       "      <td>1</td>\n",
       "      <td>8073.11</td>\n",
       "      <td>N</td>\n",
       "      <td>46.000000</td>\n",
       "      <td>F</td>\n",
       "    </tr>\n",
       "    <tr>\n",
       "      <th>2</th>\n",
       "      <td>24</td>\n",
       "      <td>0</td>\n",
       "      <td>5</td>\n",
       "      <td>0</td>\n",
       "      <td>CH</td>\n",
       "      <td>Budget</td>\n",
       "      <td>Standard</td>\n",
       "      <td>29</td>\n",
       "      <td>4</td>\n",
       "      <td>M</td>\n",
       "      <td>M</td>\n",
       "      <td>0</td>\n",
       "      <td>95448.60</td>\n",
       "      <td>Y</td>\n",
       "      <td>53.680000</td>\n",
       "      <td>F</td>\n",
       "    </tr>\n",
       "    <tr>\n",
       "      <th>3</th>\n",
       "      <td>28</td>\n",
       "      <td>0</td>\n",
       "      <td>97</td>\n",
       "      <td>0</td>\n",
       "      <td>CC</td>\n",
       "      <td>FreeLocal</td>\n",
       "      <td>Standard</td>\n",
       "      <td>125</td>\n",
       "      <td>1</td>\n",
       "      <td>M</td>\n",
       "      <td>S</td>\n",
       "      <td>1</td>\n",
       "      <td>24141.50</td>\n",
       "      <td>Y</td>\n",
       "      <td>17.006667</td>\n",
       "      <td>T</td>\n",
       "    </tr>\n",
       "    <tr>\n",
       "      <th>4</th>\n",
       "      <td>0</td>\n",
       "      <td>0</td>\n",
       "      <td>4</td>\n",
       "      <td>2</td>\n",
       "      <td>CC</td>\n",
       "      <td>Budget</td>\n",
       "      <td>Standard</td>\n",
       "      <td>4</td>\n",
       "      <td>2</td>\n",
       "      <td>M</td>\n",
       "      <td>S</td>\n",
       "      <td>1</td>\n",
       "      <td>31952.00</td>\n",
       "      <td>N</td>\n",
       "      <td>34.266667</td>\n",
       "      <td>F</td>\n",
       "    </tr>\n",
       "  </tbody>\n",
       "</table>\n",
       "</div>"
      ],
      "text/plain": [
       "   LONGDISTANCE  INTERNATIONAL  LOCAL  DROPPED PAYMETHOD LOCALBILLTYPE  \\\n",
       "0            23              0    206        0        CC        Budget   \n",
       "1            28              0     60        0      Auto     FreeLocal   \n",
       "2            24              0      5        0        CH        Budget   \n",
       "3            28              0     97        0        CC     FreeLocal   \n",
       "4             0              0      4        2        CC        Budget   \n",
       "\n",
       "  LONGDISTANCEBILLTYPE  USAGE  RATEPLAN GENDER STATUS  CHILDREN  ESTINCOME  \\\n",
       "0       Intnl_discount    229         3      F      S         1   38000.00   \n",
       "1             Standard     89         4      F      M         1    8073.11   \n",
       "2             Standard     29         4      M      M         0   95448.60   \n",
       "3             Standard    125         1      M      S         1   24141.50   \n",
       "4             Standard      4         2      M      S         1   31952.00   \n",
       "\n",
       "  CAROWNER        AGE CHURN  \n",
       "0        N  24.393333     T  \n",
       "1        N  46.000000     F  \n",
       "2        Y  53.680000     F  \n",
       "3        Y  17.006667     T  \n",
       "4        N  34.266667     F  "
      ]
     },
     "execution_count": 6,
     "metadata": {},
     "output_type": "execute_result"
    }
   ],
   "source": [
    "# Keep only the columns that are relevant for churn prediction\n",
    "data = data[['LONGDISTANCE', 'INTERNATIONAL', 'LOCAL', 'DROPPED', 'PAYMETHOD', 'LOCALBILLTYPE', 'LONGDISTANCEBILLTYPE', 'USAGE', 'RATEPLAN', 'GENDER','STATUS', 'CHILDREN', 'ESTINCOME', 'CAROWNER', 'AGE', 'CHURN']]\n",
    "data.head()\n"
   ]
  },
  {
   "cell_type": "markdown",
   "metadata": {
    "id": "dc69b3d4-60c5-43ea-8931-03ad7d52ba27"
   },
   "source": [
    "## Step 2: Try the Random Forest model"
   ]
  },
  {
   "cell_type": "code",
   "execution_count": 7,
   "metadata": {
    "id": "6b665dc0-2b67-420c-877f-6035fe8ae710",
    "tags": []
   },
   "outputs": [],
   "source": [
    "import pandas as pd\n",
    "import sklearn\n",
    "pd.options.display.max_columns = 999\n",
    "\n",
    "import warnings\n",
    "warnings.filterwarnings('ignore')\n",
    "\n",
    "from scipy.stats import chi2_contingency,ttest_ind\n",
    "import matplotlib.pyplot as plt\n",
    "import seaborn as sns\n",
    "%matplotlib inline\n",
    "\n",
    "from sklearn.model_selection import train_test_split\n",
    "\n",
    "from sklearn.preprocessing import MinMaxScaler, LabelEncoder\n",
    "from sklearn.ensemble import RandomForestClassifier\n",
    "from sklearn.metrics import f1_score, accuracy_score, roc_curve, roc_auc_score\n",
    "\n",
    "import numpy as np\n",
    "\n",
    "import urllib3, requests, json"
   ]
  },
  {
   "cell_type": "code",
   "execution_count": 8,
   "metadata": {
    "id": "f050819d-c047-4c53-9e68-efc2aa1f4d42",
    "tags": []
   },
   "outputs": [
    {
     "data": {
      "text/html": [
       "<div>\n",
       "<style scoped>\n",
       "    .dataframe tbody tr th:only-of-type {\n",
       "        vertical-align: middle;\n",
       "    }\n",
       "\n",
       "    .dataframe tbody tr th {\n",
       "        vertical-align: top;\n",
       "    }\n",
       "\n",
       "    .dataframe thead th {\n",
       "        text-align: right;\n",
       "    }\n",
       "</style>\n",
       "<table border=\"1\" class=\"dataframe\">\n",
       "  <thead>\n",
       "    <tr style=\"text-align: right;\">\n",
       "      <th></th>\n",
       "      <th>LONGDISTANCE</th>\n",
       "      <th>INTERNATIONAL</th>\n",
       "      <th>LOCAL</th>\n",
       "      <th>DROPPED</th>\n",
       "      <th>PAYMETHOD</th>\n",
       "      <th>LOCALBILLTYPE</th>\n",
       "      <th>LONGDISTANCEBILLTYPE</th>\n",
       "      <th>USAGE</th>\n",
       "      <th>RATEPLAN</th>\n",
       "      <th>GENDER</th>\n",
       "      <th>STATUS</th>\n",
       "      <th>CHILDREN</th>\n",
       "      <th>ESTINCOME</th>\n",
       "      <th>CAROWNER</th>\n",
       "      <th>AGE</th>\n",
       "      <th>CHURN</th>\n",
       "    </tr>\n",
       "  </thead>\n",
       "  <tbody>\n",
       "    <tr>\n",
       "      <th>0</th>\n",
       "      <td>23</td>\n",
       "      <td>0</td>\n",
       "      <td>206</td>\n",
       "      <td>0</td>\n",
       "      <td>CC</td>\n",
       "      <td>Budget</td>\n",
       "      <td>Intnl_discount</td>\n",
       "      <td>229</td>\n",
       "      <td>3</td>\n",
       "      <td>F</td>\n",
       "      <td>S</td>\n",
       "      <td>1</td>\n",
       "      <td>38000.00</td>\n",
       "      <td>N</td>\n",
       "      <td>24.393333</td>\n",
       "      <td>1</td>\n",
       "    </tr>\n",
       "    <tr>\n",
       "      <th>1</th>\n",
       "      <td>28</td>\n",
       "      <td>0</td>\n",
       "      <td>60</td>\n",
       "      <td>0</td>\n",
       "      <td>Auto</td>\n",
       "      <td>FreeLocal</td>\n",
       "      <td>Standard</td>\n",
       "      <td>89</td>\n",
       "      <td>4</td>\n",
       "      <td>F</td>\n",
       "      <td>M</td>\n",
       "      <td>1</td>\n",
       "      <td>8073.11</td>\n",
       "      <td>N</td>\n",
       "      <td>46.000000</td>\n",
       "      <td>0</td>\n",
       "    </tr>\n",
       "    <tr>\n",
       "      <th>2</th>\n",
       "      <td>24</td>\n",
       "      <td>0</td>\n",
       "      <td>5</td>\n",
       "      <td>0</td>\n",
       "      <td>CH</td>\n",
       "      <td>Budget</td>\n",
       "      <td>Standard</td>\n",
       "      <td>29</td>\n",
       "      <td>4</td>\n",
       "      <td>M</td>\n",
       "      <td>M</td>\n",
       "      <td>0</td>\n",
       "      <td>95448.60</td>\n",
       "      <td>Y</td>\n",
       "      <td>53.680000</td>\n",
       "      <td>0</td>\n",
       "    </tr>\n",
       "    <tr>\n",
       "      <th>3</th>\n",
       "      <td>28</td>\n",
       "      <td>0</td>\n",
       "      <td>97</td>\n",
       "      <td>0</td>\n",
       "      <td>CC</td>\n",
       "      <td>FreeLocal</td>\n",
       "      <td>Standard</td>\n",
       "      <td>125</td>\n",
       "      <td>1</td>\n",
       "      <td>M</td>\n",
       "      <td>S</td>\n",
       "      <td>1</td>\n",
       "      <td>24141.50</td>\n",
       "      <td>Y</td>\n",
       "      <td>17.006667</td>\n",
       "      <td>1</td>\n",
       "    </tr>\n",
       "    <tr>\n",
       "      <th>4</th>\n",
       "      <td>0</td>\n",
       "      <td>0</td>\n",
       "      <td>4</td>\n",
       "      <td>2</td>\n",
       "      <td>CC</td>\n",
       "      <td>Budget</td>\n",
       "      <td>Standard</td>\n",
       "      <td>4</td>\n",
       "      <td>2</td>\n",
       "      <td>M</td>\n",
       "      <td>S</td>\n",
       "      <td>1</td>\n",
       "      <td>31952.00</td>\n",
       "      <td>N</td>\n",
       "      <td>34.266667</td>\n",
       "      <td>0</td>\n",
       "    </tr>\n",
       "  </tbody>\n",
       "</table>\n",
       "</div>"
      ],
      "text/plain": [
       "   LONGDISTANCE  INTERNATIONAL  LOCAL  DROPPED PAYMETHOD LOCALBILLTYPE  \\\n",
       "0            23              0    206        0        CC        Budget   \n",
       "1            28              0     60        0      Auto     FreeLocal   \n",
       "2            24              0      5        0        CH        Budget   \n",
       "3            28              0     97        0        CC     FreeLocal   \n",
       "4             0              0      4        2        CC        Budget   \n",
       "\n",
       "  LONGDISTANCEBILLTYPE  USAGE  RATEPLAN GENDER STATUS  CHILDREN  ESTINCOME  \\\n",
       "0       Intnl_discount    229         3      F      S         1   38000.00   \n",
       "1             Standard     89         4      F      M         1    8073.11   \n",
       "2             Standard     29         4      M      M         0   95448.60   \n",
       "3             Standard    125         1      M      S         1   24141.50   \n",
       "4             Standard      4         2      M      S         1   31952.00   \n",
       "\n",
       "  CAROWNER        AGE  CHURN  \n",
       "0        N  24.393333      1  \n",
       "1        N  46.000000      0  \n",
       "2        Y  53.680000      0  \n",
       "3        Y  17.006667      1  \n",
       "4        N  34.266667      0  "
      ]
     },
     "execution_count": 8,
     "metadata": {},
     "output_type": "execute_result"
    }
   ],
   "source": [
    "#convert CHURN to 1/0\n",
    "le = LabelEncoder()\n",
    "data.loc[:,'CHURN']= le.fit_transform(data.loc[:,'CHURN'])\n",
    "data.head()"
   ]
  },
  {
   "cell_type": "code",
   "execution_count": 9,
   "metadata": {
    "id": "fcb7815d-ffa3-436d-92d9-956431ac1069",
    "tags": []
   },
   "outputs": [],
   "source": [
    "# define the label and features\n",
    "y = np.float32(data.CHURN)\n",
    "x = data.drop(['CHURN','RATEPLAN','GENDER','ESTINCOME','STATUS','AGE','USAGE'], axis = 1)"
   ]
  },
  {
   "cell_type": "code",
   "execution_count": 10,
   "metadata": {
    "id": "35c1ced6e96e4b1786088ccccb09ac96",
    "tags": []
   },
   "outputs": [
    {
     "data": {
      "text/plain": [
       "Index(['LONGDISTANCE', 'INTERNATIONAL', 'LOCAL', 'DROPPED', 'PAYMETHOD',\n",
       "       'LOCALBILLTYPE', 'LONGDISTANCEBILLTYPE', 'CHILDREN', 'CAROWNER'],\n",
       "      dtype='object')"
      ]
     },
     "execution_count": 10,
     "metadata": {},
     "output_type": "execute_result"
    }
   ],
   "source": [
    "x.columns"
   ]
  },
  {
   "cell_type": "code",
   "execution_count": 11,
   "metadata": {
    "id": "18695ef9-d548-427e-8060-932ee5816e66",
    "tags": []
   },
   "outputs": [],
   "source": [
    "# Apply the LabelEncoder to encode the input features in numeric form where applicable\n",
    "from sklearn_pandas import DataFrameMapper\n",
    "\n",
    "'''\n",
    "mapper = DataFrameMapper(\n",
    "    [('GENDER', LabelEncoder()),\n",
    "     ('STATUS', LabelEncoder()),\n",
    "     ('CHILDREN', None),\n",
    "     ('ESTINCOME',None),\n",
    "     ('CAROWNER', LabelEncoder()),\n",
    "     ('AGE',None),\n",
    "     ('LONGDISTANCE',None),\n",
    "     ('INTERNATIONAL',None),\n",
    "     ('LOCAL',None),\n",
    "     ('DROPPED',None),\n",
    "     ('PAYMETHOD',LabelEncoder()),\n",
    "     ('LOCALBILLTYPE',LabelEncoder()),\n",
    "     ('LONGDISTANCEBILLTYPE',LabelEncoder()),\n",
    "     ('USAGE',None),\n",
    "     ('RATEPLAN',None)\n",
    "    ]\n",
    ")\n",
    "'''\n",
    "\n",
    "mapper = DataFrameMapper(\n",
    "    [\n",
    "     ('CHILDREN', None),\n",
    "     ('CAROWNER', LabelEncoder()),\n",
    "     ('LONGDISTANCE',None),\n",
    "     ('INTERNATIONAL',None),\n",
    "     ('LOCAL',None),\n",
    "     ('DROPPED',None),\n",
    "     ('PAYMETHOD',LabelEncoder()),\n",
    "     ('LOCALBILLTYPE',LabelEncoder()),\n",
    "     ('LONGDISTANCEBILLTYPE',LabelEncoder())\n",
    "    ]\n",
    ")"
   ]
  },
  {
   "cell_type": "code",
   "execution_count": 12,
   "metadata": {
    "id": "2a0e64d2-f4b1-4c0f-8296-a267f329486b",
    "tags": []
   },
   "outputs": [],
   "source": [
    "# split the data to training and testing set; Ratnesh\n",
    "X_train, X_test, y_train, y_test = train_test_split(x, y, \n",
    "    test_size=0.2, \n",
    "    random_state=42, stratify=y)"
   ]
  },
  {
   "cell_type": "code",
   "execution_count": 13,
   "metadata": {
    "id": "7792c9e2-0c1c-45a3-bd4c-c3a4b9fc030e",
    "tags": []
   },
   "outputs": [
    {
     "data": {
      "text/plain": [
       "Pipeline(steps=[('mapper',\n",
       "                 DataFrameMapper(drop_cols=[],\n",
       "                                 features=[('CHILDREN', None),\n",
       "                                           ('CAROWNER', LabelEncoder()),\n",
       "                                           ('LONGDISTANCE', None),\n",
       "                                           ('INTERNATIONAL', None),\n",
       "                                           ('LOCAL', None), ('DROPPED', None),\n",
       "                                           ('PAYMETHOD', LabelEncoder()),\n",
       "                                           ('LOCALBILLTYPE', LabelEncoder()),\n",
       "                                           ('LONGDISTANCEBILLTYPE',\n",
       "                                            LabelEncoder())])),\n",
       "                ('RandonForestClassifier', RandomForestClassifier())])"
      ]
     },
     "execution_count": 13,
     "metadata": {},
     "output_type": "execute_result"
    }
   ],
   "source": [
    "# fit the model\n",
    "\n",
    "import sklearn.pipeline\n",
    "from sklearn.preprocessing import OneHotEncoder\n",
    "\n",
    "random_forest = RandomForestClassifier()\n",
    "steps = [('mapper', mapper),('RandonForestClassifier', random_forest)]\n",
    "pipeline = sklearn.pipeline.Pipeline(steps)\n",
    "model=pipeline.fit( X_train, y_train )\n",
    "model"
   ]
  },
  {
   "cell_type": "code",
   "execution_count": 14,
   "metadata": {
    "id": "6ae58987-a618-4f02-9120-0cbee9dd7716",
    "tags": []
   },
   "outputs": [
    {
     "name": "stdout",
     "output_type": "stream",
     "text": [
      "              precision    recall  f1-score   support\n",
      "\n",
      "         0.0       0.98      0.94      0.96       168\n",
      "         1.0       0.92      0.97      0.95       115\n",
      "\n",
      "    accuracy                           0.95       283\n",
      "   macro avg       0.95      0.96      0.95       283\n",
      "weighted avg       0.96      0.95      0.95       283\n",
      "\n"
     ]
    }
   ],
   "source": [
    "### call pipeline.predict() on your X_test data to make a set of test predictions\n",
    "y_prediction = pipeline.predict( X_test )\n",
    "\n",
    "### test your predictions using sklearn.classification_report()\n",
    "\n",
    "report = sklearn.metrics.classification_report( y_test, y_prediction )\n",
    "### and print the report\n",
    "print(report)"
   ]
  },
  {
   "cell_type": "markdown",
   "metadata": {
    "id": "f0c8331f-63a3-40f7-ac9d-3402343b5642"
   },
   "source": [
    "### Evaluate\n",
    "\n",
    "Accuracy of the trained model is very good so we can now decide to deploy this model to be used by the applications."
   ]
  },
  {
   "cell_type": "markdown",
   "metadata": {
    "id": "66be6040-bb35-41bc-9012-711a5ce050dc",
    "tags": []
   },
   "source": [
    "## Step 3 - WML Deployment\n",
    "In the next set of cells, we deploy the trained model using Watson Machine Learning into the space associated with the current environment."
   ]
  },
  {
   "cell_type": "code",
   "execution_count": 15,
   "metadata": {
    "id": "07281e76-186f-4d8e-9da1-d6dfa621115f",
    "tags": []
   },
   "outputs": [],
   "source": [
    "import os\n",
    "cpdtoken=os.environ['USER_ACCESS_TOKEN']\n",
    "wml_credentials = {\n",
    "\"token\": cpdtoken,\n",
    "\"instance_id\" : \"openshift\",\n",
    "\"url\": os.environ['RUNTIME_ENV_APSX_URL'],\n",
    "\"version\": \"4.0\"\n",
    "}\n",
    "\n",
    "from ibm_watson_machine_learning import APIClient\n",
    "client = APIClient(wml_credentials)"
   ]
  },
  {
   "cell_type": "code",
   "execution_count": 16,
   "metadata": {
    "id": "6958e963-1a51-43c1-8408-f6305618c96f",
    "tags": []
   },
   "outputs": [
    {
     "data": {
      "text/plain": [
       "'SUCCESS'"
      ]
     },
     "execution_count": 16,
     "metadata": {},
     "output_type": "execute_result"
    }
   ],
   "source": [
    "# Associate WML client with current project\n",
    "project_id = os.environ['PROJECT_ID']\n",
    "client.set.default_project(project_id)"
   ]
  },
  {
   "cell_type": "code",
   "execution_count": 17,
   "metadata": {
    "id": "fcc286a0-27a6-4d4c-9603-61b677d642e0",
    "tags": []
   },
   "outputs": [],
   "source": [
    "# Specify a name for the space being created, the saved model and the model deployment\n",
    "space_name = 'churn-' + CURRENT_ENV\n",
    "model_name = 'churn_pipeline'\n",
    "deployment_name = 'churn_pipeline_deployment'\n",
    "\n",
    "use_existing_space=True"
   ]
  },
  {
   "cell_type": "code",
   "execution_count": 18,
   "metadata": {
    "id": "6bcea826-7ac2-4e8b-8272-d27f54bd95cb",
    "tags": []
   },
   "outputs": [],
   "source": [
    "from ibm_watson_machine_learning import APIClient\n",
    "import os\n",
    "import time\n",
    "\n",
    "token = os.environ['USER_ACCESS_TOKEN']\n",
    "\n",
    "wml_credentials = {\n",
    "   \"token\": token,\n",
    "   \"instance_id\" : \"openshift\",\n",
    "   \"url\": os.environ['RUNTIME_ENV_APSX_URL'],\n",
    "   \"version\": \"4.0\"\n",
    "}\n",
    "\n",
    "client = APIClient(wml_credentials)"
   ]
  },
  {
   "cell_type": "markdown",
   "metadata": {
    "id": "dd34ed89-7e1c-4dbb-9cbc-f437542847a0"
   },
   "source": [
    "### Create the deployment space if it doesn't exist yet"
   ]
  },
  {
   "cell_type": "code",
   "execution_count": 19,
   "metadata": {
    "id": "478f8218-af4e-47f6-a6af-0950bd10352d",
    "tags": []
   },
   "outputs": [
    {
     "name": "stdout",
     "output_type": "stream",
     "text": [
      "Deployment space with name churn-dev already exists . .\n",
      "Using the existing space\n"
     ]
    }
   ],
   "source": [
    "space_uid = \"\"\n",
    "for space in client.spaces.get_details()['resources']:\n",
    "\n",
    "    if space['entity']['name'] ==space_name:\n",
    "        print(\"Deployment space with name\",space_name,\"already exists . .\")\n",
    "        space_uid=space['metadata']['id']\n",
    "        client.set.default_space(space_uid)\n",
    "        if(use_existing_space==False):\n",
    "\n",
    "            for deployment in client.deployments.get_details()['resources']:\n",
    "                print(\"Deleting deployment\",deployment['entity']['name'], \"in the space\",)\n",
    "                deployment_id=deployment['metadata']['id']\n",
    "                client.deployments.delete(deployment_id)\n",
    "            print(\"Deleting Space \",space_name,)\n",
    "            client.spaces.delete(space_uid)\n",
    "            time.sleep(5)\n",
    "        else:\n",
    "            print(\"Using the existing space\")\n",
    "\n",
    "if (space_uid == \"\" or use_existing_space == False):\n",
    "    print(\"\\nCreating a new deployment space -\",space_name)\n",
    "    # create the space and set it as default\n",
    "    space_meta_data = {\n",
    "        client.spaces.ConfigurationMetaNames.NAME : space_name\n",
    "\n",
    "        }\n",
    "\n",
    "    stored_space_details = client.spaces.store(space_meta_data)\n",
    "\n",
    "    space_uid = stored_space_details['metadata']['id']\n",
    "\n",
    "    client.set.default_space(space_uid)"
   ]
  },
  {
   "cell_type": "code",
   "execution_count": 20,
   "metadata": {
    "id": "e65dcc3c-74fa-4381-846a-315e313fa082",
    "tags": []
   },
   "outputs": [
    {
     "name": "stdout",
     "output_type": "stream",
     "text": [
      "-----------------------------  ------------------------------------  ----\n",
      "NAME                           ASSET_ID                              TYPE\n",
      "default_py3.6                  0062b8c9-8b7d-44a0-a9b9-46c416adcbd9  base\n",
      "runtime-22.1-r3.6              018ebea5-1d1f-5fec-b93e-5e2ab30e7f38  base\n",
      "kernel-spark3.2-scala2.12      020d69ce-7ac1-5e68-ac1a-31189867356a  base\n",
      "pytorch-onnx_1.3-py3.7-edt     069ea134-3346-5748-b513-49120e15d288  base\n",
      "scikit-learn_0.20-py3.6        09c5a1d0-9c1e-4473-a344-eb7b665ff687  base\n",
      "spark-mllib_3.0-scala_2.12     09f4cff0-90a7-5899-b9ed-1ef348aebdee  base\n",
      "pytorch-onnx_rt22.1-py3.9      0b848dd4-e681-5599-be41-b5f6fccc6471  base\n",
      "ai-function_0.1-py3.6          0cdb0f1e-5376-4f4d-92dd-da3b69aa9bda  base\n",
      "shiny-r3.6                     0e6e79df-875e-4f24-8ae9-62dcc2148306  base\n",
      "pytorch_1.1-py3.6              10ac12d6-6b30-4ccd-8392-3e922c096a92  base\n",
      "runtime-22.1-py3.9             12b83a17-24d8-5082-900f-0ab31fbfd3cb  base\n",
      "scikit-learn_0.22-py3.6        154010fa-5b3b-4ac1-82af-4d5ee5abbc85  base\n",
      "pytorch-onnx_1.7-py3.8-edt     1b199910-c7d5-5af4-b8f1-e86b760f9779  base\n",
      "default_r3.6                   1b70aec3-ab34-4b87-8aa0-a4a3c8296a36  base\n",
      "pytorch-onnx_rt22.1-py3.9-edt  1d362186-7ad5-5b59-8b6c-9d0880bde37f  base\n",
      "spark-mllib_3.2                20047f72-0a98-58c7-9ff5-a77b012eb8f5  base\n",
      "runtime-22.1-py3.9-cuda        26215f05-08c3-5a41-a1b0-da66306ce658  base\n",
      "do_py3.8                       295addb5-9ef9-547e-9bf4-92ae3563e720  base\n",
      "autoai-ts_3.8-py3.8            2aa0c932-798f-5ae9-abd6-15e0c2402fb5  base\n",
      "tensorflow_1.15-py3.6          2b73a275-7cbf-420b-a912-eae7f436e0bc  base\n",
      "pytorch_1.2-py3.6              2c8ef57d-2687-4b7d-acce-01f94976dac1  base\n",
      "spark-mllib_2.3                2e51f700-bca0-4b0d-88dc-5c6791338875  base\n",
      "pytorch-onnx_1.1-py3.6-edt     32983cea-3f32-4400-8965-dde874a8d67e  base\n",
      "spark-mllib_3.0-py37           36507ebe-8770-55ba-ab2a-eafe787600e9  base\n",
      "xgboost_0.82-py3.6             39e31acd-5f30-41dc-ae44-60233c80306e  base\n",
      "pytorch-onnx_1.2-py3.6-edt     40589d0e-7019-4e28-8daa-fb03b6f4fe12  base\n",
      "autoai-ts_rt22.1-py3.9         4269d26e-07ba-5d40-8f66-2d495b0c71f7  base\n",
      "autoai-obm_3.0                 42b92e18-d9ab-567f-988a-4240ba1ed5f7  base\n",
      "ai-function_0.2-py3.6          435bfa8f-ddae-549a-826a-894368887231  base\n",
      "pmml-3.0_4.3                   493bcb95-16f1-5bc5-bee8-81b8af80e9c7  base\n",
      "spark-mllib_2.4-r_3.6          49403dff-92e9-4c87-a3d7-a42d0021c095  base\n",
      "xgboost_0.90-py3.6             4ff8d6c2-1343-4c18-85e1-689c965304d3  base\n",
      "pytorch-onnx_1.1-py3.6         50f95b2a-bc16-43bb-bc94-b0bed208c60b  base\n",
      "autoai-ts_3.9-py3.8            52c57136-80fa-572e-8728-a5e7cbb42cde  base\n",
      "spark-mllib_2.4-scala_2.11     55a70f99-7320-4be5-9fb9-9edb5a443af5  base\n",
      "spark-mllib_3.0                5c1b0ca2-4977-5c2e-9439-ffd44ea8ffe9  base\n",
      "autoai-obm_2.0                 5c2e37fa-80b8-5e77-840f-d912469614ee  base\n",
      "spss-modeler_18.1              5c3cad7e-507f-4b2a-a9a3-ab53a21dee8b  base\n",
      "cuda-py3.8                     5d3232bf-c86b-5df4-a2cd-7bb870a1cd4e  base\n",
      "autoai-kb_3.1-py3.7            632d4b22-10aa-5180-88f0-f52dfb6444d7  base\n",
      "pytorch-onnx_1.7-py3.8         634d3cdc-b562-5bf9-a2d4-ea90a478456b  base\n",
      "tensorflow_2.4-py3.7           65e171d7-72d1-55d9-8ebb-f813d620c9bb  base\n",
      "spss-modeler_18.2              687eddc9-028a-4117-b9dd-e57b36f1efa5  base\n",
      "pytorch-onnx_1.2-py3.6         692a6a4d-2c4d-45ff-a1ed-b167ee55469a  base\n",
      "spark-mllib_2.4-py37           7abc992b-b685-532b-a122-a396a3cdbaab  base\n",
      "caffe_1.0-py3.6                7bb3dbe2-da6e-4145-918d-b6d84aa93b6b  base\n",
      "pytorch-onnx_1.7-py3.7         812c6631-42b7-5613-982b-02098e6c909c  base\n",
      "cuda-py3.6                     82c79ece-4d12-40e6-8787-a7b9e0f62770  base\n",
      "hybrid_0.1                     8c1a58c6-62b5-4dc4-987a-df751c2756b6  base\n",
      "pytorch-onnx_1.3-py3.7         8d5d8a87-a912-54cf-81ec-3914adaa988d  base\n",
      "-----------------------------  ------------------------------------  ----\n",
      "Note: Only first 50 records were displayed. To display more use 'limit' parameter.\n"
     ]
    }
   ],
   "source": [
    "client.software_specifications.list()"
   ]
  },
  {
   "cell_type": "code",
   "execution_count": 21,
   "metadata": {
    "id": "b800dc4e-359a-4233-a2e6-84938172ad9d",
    "tags": []
   },
   "outputs": [],
   "source": [
    "software_spec_uid = client.software_specifications.get_uid_by_name('runtime-22.1-py3.9')\n",
    "\n",
    "metadata = {\n",
    "    client.repository.ModelMetaNames.NAME: model_name,\n",
    "    client.repository.ModelMetaNames.SOFTWARE_SPEC_UID: software_spec_uid,\n",
    "    client.repository.ModelMetaNames.TYPE: \"scikit-learn_1.0\"\n",
    "}\n",
    "\n",
    "stored_model_details = client.repository.store_model(pipeline,\n",
    "                                               meta_props=metadata,\n",
    "                                               training_data=X_train,\n",
    "                                               training_target=y_train)"
   ]
  },
  {
   "cell_type": "code",
   "execution_count": 22,
   "metadata": {
    "id": "4cfc9142-43cb-436f-99a1-d331b3deda88",
    "tags": []
   },
   "outputs": [
    {
     "name": "stdout",
     "output_type": "stream",
     "text": [
      "------------------------------------  --------------  ------------------------  ----------------\n",
      "ID                                    NAME            CREATED                   TYPE\n",
      "01a751dc-ad09-44b6-a7d0-23307b06a2f1  churn_pipeline  2022-09-21T03:14:56.002Z  scikit-learn_1.0\n",
      "86bda573-8a38-4343-a03b-5302da07d855  churn_pipeline  2022-09-20T23:39:30.002Z  scikit-learn_1.0\n",
      "------------------------------------  --------------  ------------------------  ----------------\n"
     ]
    }
   ],
   "source": [
    "# Confirm the model is stored in WML repository\n",
    "client.repository.list_models()"
   ]
  },
  {
   "cell_type": "code",
   "execution_count": 23,
   "metadata": {
    "id": "6d60e8a1-34bc-41f3-93e7-daebd4493bf1",
    "tags": []
   },
   "outputs": [
    {
     "data": {
      "text/plain": [
       "{'entity': {'hybrid_pipeline_software_specs': [],\n",
       "  'label_column': 'l1',\n",
       "  'software_spec': {'id': '12b83a17-24d8-5082-900f-0ab31fbfd3cb',\n",
       "   'name': 'runtime-22.1-py3.9'},\n",
       "  'training_data_references': [{'connection': {'access_key_id': 'not_applicable',\n",
       "     'endpoint_url': 'not_applicable',\n",
       "     'secret_access_key': 'not_applicable'},\n",
       "    'id': '1',\n",
       "    'location': {},\n",
       "    'schema': {'fields': [{'name': 'LONGDISTANCE', 'type': 'int64'},\n",
       "      {'name': 'INTERNATIONAL', 'type': 'int64'},\n",
       "      {'name': 'LOCAL', 'type': 'int64'},\n",
       "      {'name': 'DROPPED', 'type': 'int64'},\n",
       "      {'name': 'PAYMETHOD', 'type': 'object'},\n",
       "      {'name': 'LOCALBILLTYPE', 'type': 'object'},\n",
       "      {'name': 'LONGDISTANCEBILLTYPE', 'type': 'object'},\n",
       "      {'name': 'CHILDREN', 'type': 'int64'},\n",
       "      {'name': 'CAROWNER', 'type': 'object'}],\n",
       "     'id': '1',\n",
       "     'type': 'DataFrame'},\n",
       "    'type': 'fs'}],\n",
       "  'type': 'scikit-learn_1.0'},\n",
       " 'metadata': {'created_at': '2022-09-21T03:14:56.640Z',\n",
       "  'id': '01a751dc-ad09-44b6-a7d0-23307b06a2f1',\n",
       "  'modified_at': '2022-09-21T03:15:00.985Z',\n",
       "  'name': 'churn_pipeline',\n",
       "  'owner': '1000331011',\n",
       "  'resource_key': '0e195cf7-4f5e-4109-a3c8-79d1ce6f0c13',\n",
       "  'space_id': '56c9ecb3-de9a-4aa4-9063-0d3e2a6b35f3'},\n",
       " 'system': {'warnings': []}}"
      ]
     },
     "execution_count": 23,
     "metadata": {},
     "output_type": "execute_result"
    }
   ],
   "source": [
    "stored_model_details"
   ]
  },
  {
   "cell_type": "code",
   "execution_count": 24,
   "metadata": {
    "id": "ee7ee4b2-e8dc-40fc-af0e-a55f51a030ab",
    "tags": []
   },
   "outputs": [
    {
     "name": "stdout",
     "output_type": "stream",
     "text": [
      "This method is deprecated, please use get_model_id()\n",
      "\n",
      "\n",
      "#######################################################################################\n",
      "\n",
      "Synchronous deployment creation for uid: '01a751dc-ad09-44b6-a7d0-23307b06a2f1' started\n",
      "\n",
      "#######################################################################################\n",
      "\n",
      "\n",
      "initializing\n",
      "Note: online_url is deprecated and will be removed in a future release. Use serving_urls instead.\n",
      "\n",
      "ready\n",
      "\n",
      "\n",
      "------------------------------------------------------------------------------------------------\n",
      "Successfully finished deployment creation, deployment_uid='95fe1f6b-6c1d-44f9-bdd4-992eb6107b98'\n",
      "------------------------------------------------------------------------------------------------\n",
      "\n",
      "\n"
     ]
    }
   ],
   "source": [
    "# Deploy the model\n",
    "deploy_metadata = {\n",
    "    client.deployments.ConfigurationMetaNames.NAME: deployment_name,\n",
    "    client.deployments.ConfigurationMetaNames.ONLINE: {}\n",
    "}\n",
    "\n",
    "published_model_uid = client.repository.get_model_uid(stored_model_details)\n",
    "created_deployment = client.deployments.create(published_model_uid, meta_props=deploy_metadata)\n"
   ]
  },
  {
   "cell_type": "code",
   "execution_count": 25,
   "metadata": {
    "id": "f480d949-f24b-43a4-a814-f4fa1c32ba57",
    "tags": []
   },
   "outputs": [
    {
     "name": "stdout",
     "output_type": "stream",
     "text": [
      "https://internal-nginx-svc.cpd-instance.svc.cluster.local:12443/ml/v4/deployments/95fe1f6b-6c1d-44f9-bdd4-992eb6107b98/predictions\n"
     ]
    }
   ],
   "source": [
    "deployment_uid = client.deployments.get_uid(created_deployment)\n",
    "scoring_endpoint = client.deployments.get_scoring_href(created_deployment)\n",
    "print(scoring_endpoint)"
   ]
  },
  {
   "cell_type": "markdown",
   "metadata": {
    "id": "38a20e4c-6c8e-4bfb-bc9b-28eb1ca3325f"
   },
   "source": [
    "### Delete the old deployments of the previous model(s)"
   ]
  },
  {
   "cell_type": "code",
   "execution_count": 26,
   "metadata": {
    "id": "6667bc4e-22a3-4cbb-ba79-785d048c97ae",
    "tags": []
   },
   "outputs": [
    {
     "name": "stdout",
     "output_type": "stream",
     "text": [
      "Deployment cc7ac54e-1d4a-4e58-9439-2ed0c28a5183 will be deleted\n"
     ]
    }
   ],
   "source": [
    "for deployment in client.deployments.get_details()['resources']:\n",
    "    if (deployment['metadata']['name']==deployment_name) and (deployment['metadata']['id'] != deployment_uid):\n",
    "        print('Deployment '+ deployment['metadata']['id'] + ' will be deleted')\n",
    "        client.deployments.delete(deployment['metadata']['id'])"
   ]
  },
  {
   "cell_type": "markdown",
   "metadata": {
    "id": "b33adf3a-d1c8-4230-a4a8-cc43badc75f5"
   },
   "source": [
    "### Delete previous models"
   ]
  },
  {
   "cell_type": "code",
   "execution_count": 27,
   "metadata": {
    "id": "e3277c48-c12e-455a-8abd-b5af86fcb28f",
    "tags": []
   },
   "outputs": [
    {
     "name": "stdout",
     "output_type": "stream",
     "text": [
      "Model 86bda573-8a38-4343-a03b-5302da07d855 will be deleted\n"
     ]
    }
   ],
   "source": [
    "for model in client.repository.get_model_details()['resources']:\n",
    "    if (model['metadata']['name']==model_name) and (model['metadata']['id'] != stored_model_details['metadata']['id']):\n",
    "        print('Model '+ model['metadata']['id'] + ' will be deleted')\n",
    "        client.repository.delete(model['metadata']['id'])"
   ]
  },
  {
   "cell_type": "markdown",
   "metadata": {
    "id": "c6bf383e-b2e6-4e09-8138-12787f3a1a9f"
   },
   "source": [
    "### List remaining models and deployments"
   ]
  },
  {
   "cell_type": "code",
   "execution_count": 28,
   "metadata": {
    "id": "d26c5cf2-fe85-4677-998d-430e4571a860",
    "tags": []
   },
   "outputs": [
    {
     "name": "stdout",
     "output_type": "stream",
     "text": [
      "------------------------------------  --------------  ------------------------  ----------------\n",
      "ID                                    NAME            CREATED                   TYPE\n",
      "01a751dc-ad09-44b6-a7d0-23307b06a2f1  churn_pipeline  2022-09-21T03:14:56.002Z  scikit-learn_1.0\n",
      "------------------------------------  --------------  ------------------------  ----------------\n",
      "------------------------------------  -------------------------  -----  ------------------------\n",
      "GUID                                  NAME                       STATE  CREATED\n",
      "95fe1f6b-6c1d-44f9-bdd4-992eb6107b98  churn_pipeline_deployment  ready  2022-09-21T03:15:03.556Z\n",
      "------------------------------------  -------------------------  -----  ------------------------\n"
     ]
    }
   ],
   "source": [
    "client.repository.list_models()\n",
    "client.deployments.list()"
   ]
  },
  {
   "cell_type": "markdown",
   "metadata": {
    "id": "491d619e-b555-4c20-8cba-ea8ac3ca3a20"
   },
   "source": [
    "### Run a test score of the newly deployed model"
   ]
  },
  {
   "cell_type": "code",
   "execution_count": 29,
   "metadata": {
    "id": "3ccd14d0-7290-430d-adc9-6c525875b2d0",
    "tags": []
   },
   "outputs": [],
   "source": [
    "# Score the model on a test dataset\n",
    "scoring_payload = {\n",
    "    \"input_data\": [{\n",
    "        'fields': ['LONGDISTANCE', 'INTERNATIONAL', 'LOCAL', 'DROPPED', 'PAYMETHOD', \n",
    "                   'LOCALBILLTYPE', 'LONGDISTANCEBILLTYPE', 'CHILDREN', 'CAROWNER'],\n",
    "        'values': [[28,0,60,0,\"Auto\",\"FreeLocal\",\"Standard\",1,\"N\"]]}]\n",
    "}\n"
   ]
  },
  {
   "cell_type": "code",
   "execution_count": 30,
   "metadata": {
    "id": "e6221c43-ecbd-4595-a77f-9092e9bc644f",
    "tags": []
   },
   "outputs": [
    {
     "name": "stdout",
     "output_type": "stream",
     "text": [
      "{\n",
      "  \"predictions\": [\n",
      "    {\n",
      "      \"fields\": [\n",
      "        \"prediction\",\n",
      "        \"probability\"\n",
      "      ],\n",
      "      \"values\": [\n",
      "        [\n",
      "          0.0,\n",
      "          [\n",
      "            1.0,\n",
      "            0.0\n",
      "          ]\n",
      "        ]\n",
      "      ]\n",
      "    }\n",
      "  ]\n",
      "}\n"
     ]
    }
   ],
   "source": [
    "predictions = client.deployments.score(deployment_uid, scoring_payload)\n",
    "print(json.dumps(predictions, indent=2))"
   ]
  }
 ],
 "metadata": {
  "kernelspec": {
   "display_name": "Python 3.9",
   "language": "python",
   "name": "python3"
  },
  "language_info": {
   "codemirror_mode": {
    "name": "ipython",
    "version": 3
   },
   "file_extension": ".py",
   "mimetype": "text/x-python",
   "name": "python",
   "nbconvert_exporter": "python",
   "pygments_lexer": "ipython3",
   "version": "3.9.7"
  }
 },
 "nbformat": 4,
 "nbformat_minor": 4
}
